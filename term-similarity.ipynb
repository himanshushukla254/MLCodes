{
 "cells": [
  {
   "cell_type": "code",
   "execution_count": 3,
   "metadata": {},
   "outputs": [
    {
     "ename": "IndentationError",
     "evalue": "unexpected indent (<ipython-input-3-259ec49a456c>, line 22)",
     "output_type": "error",
     "traceback": [
      "\u001b[1;36m  File \u001b[1;32m\"<ipython-input-3-259ec49a456c>\"\u001b[1;36m, line \u001b[1;32m22\u001b[0m\n\u001b[1;33m    print(get_closest_neighs(argv.lower(), tfidf_matrix))\u001b[0m\n\u001b[1;37m    ^\u001b[0m\n\u001b[1;31mIndentationError\u001b[0m\u001b[1;31m:\u001b[0m unexpected indent\n"
     ]
    }
   ],
   "source": [
    "from sklearn.feature_extraction.text import TfidfVectorizer\n",
    "from sklearn.neighbors import NearestNeighbors\n",
    "import pandas as pd\n",
    "\n",
    "def get_tfidf_matrix(dataset):\n",
    "    tfidf_vectorizer = TfidfVectorizer()\n",
    "    tfidf_matrix = tfidf_vectorizer.fit_transform(dataset)\n",
    "    return tfidf_matrix\n",
    "\n",
    "def get_closest_neighs(word, tfidf_matrix):\n",
    "    nbrs = NearestNeighbors(n_neighbors=10).fit(tfidf_matrix)\n",
    "    row = dataset.index.get_loc(word)\n",
    "    distances, indices = nbrs.kneighbors(tfidf_matrix.getrow(row))\n",
    "    names_similar = pd.Series(indices.flatten()).map(dataset.reset_index()['tag'])\n",
    "    result = pd.DataFrame({'distance':distances.flatten(), 'name':names_similar})\n",
    "    return result\n",
    "\n",
    "if __name__ == '__main__':\n",
    "    dataset = pd.read_csv('dataset_term_similarity.csv', index_col='tag')['context']\n",
    "    tfidf_matrix = get_tfidf_matrix(dataset)\n",
    "    argv = 'machine'\n",
    "    print(get_closest_neighs(argv.lower(), tfidf_matrix))\n"
   ]
  },
  {
   "cell_type": "code",
   "execution_count": null,
   "metadata": {},
   "outputs": [],
   "source": []
  },
  {
   "cell_type": "code",
   "execution_count": null,
   "metadata": {},
   "outputs": [],
   "source": []
  }
 ],
 "metadata": {
  "kernelspec": {
   "display_name": "Python 2",
   "language": "python",
   "name": "python2"
  },
  "language_info": {
   "codemirror_mode": {
    "name": "ipython",
    "version": 2
   },
   "file_extension": ".py",
   "mimetype": "text/x-python",
   "name": "python",
   "nbconvert_exporter": "python",
   "pygments_lexer": "ipython2",
   "version": "2.7.13"
  }
 },
 "nbformat": 4,
 "nbformat_minor": 2
}
