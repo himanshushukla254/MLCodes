{
 "cells": [
  {
   "cell_type": "code",
   "execution_count": 5,
   "metadata": {},
   "outputs": [],
   "source": [
    "import numpy as np\n",
    "#Input array\n",
    "X=np.array([[1,0,1,0],[1,0,1,1],[0,1,0,1]])\n",
    "\n",
    "#Output\n",
    "y=np.array([[1],[1],[0]])\n",
    "\n",
    "#Sigmoid Function\n",
    "def sigmoid (x):\n",
    "    return 1/(1 + np.exp(-x))\n",
    "\n",
    "#Derivative of Sigmoid Function\n",
    "def derivative_sigmoid(x):\n",
    "    return x * (1 - x)"
   ]
  },
  {
   "cell_type": "code",
   "execution_count": 6,
   "metadata": {},
   "outputs": [],
   "source": [
    "#Variable initialization\n",
    "epoch=5000 #Setting training iterations\n",
    "lr=0.2 #Setting learning rate\n",
    "inputlayer_neurons = X.shape[1] #number of features in data set ------4\n",
    "hiddenlayer_neurons = 3 #number of hidden layers neurons\n",
    "output_neurons = 1 #number of neurons at output layer"
   ]
  },
  {
   "cell_type": "code",
   "execution_count": 7,
   "metadata": {},
   "outputs": [],
   "source": [
    "#init weight and biases\n",
    "wh=np.random.uniform(size=(inputlayer_neurons,hiddenlayer_neurons)) # 4*3\n",
    "bh=np.random.uniform(size=(1,hiddenlayer_neurons)) #1*3 \n",
    "wout=np.random.uniform(size=(hiddenlayer_neurons,output_neurons)) #3*1\n",
    "bout=np.random.uniform(size=(1,output_neurons)) #1*1"
   ]
  },
  {
   "cell_type": "code",
   "execution_count": 8,
   "metadata": {},
   "outputs": [
    {
     "name": "stdout",
     "output_type": "stream",
     "text": [
      "[[ 0.96669158]\n",
      " [ 0.94026697]\n",
      " [ 0.08433785]]\n"
     ]
    }
   ],
   "source": [
    "#input at hidden layer\n",
    "for i in range(epoch):\n",
    "    #forward propogation \n",
    "    hidden_layer_input = np.dot(X,wh) + bh\n",
    "    hidden_layer_activation = sigmoid(hidden_layer_input)\n",
    "    output_layer_input = np.dot(hidden_layer_activation,wout) + bout\n",
    "    output_layer_activation = sigmoid(output_layer_input)\n",
    "    \n",
    "    #back propogation \n",
    "    E = y - output_layer_activation\n",
    "    slope_output_layer = derivative_sigmoid(output_layer_activation)\n",
    "    slope_hidden_layer = derivative_sigmoid(hidden_layer_activation)\n",
    "    delta_output = E*slope_output_layer*lr\n",
    "    error_hidden_layer = np.dot(delta_output,wout.T)\n",
    "    delta_hidden_layer = error_hidden_layer * slope_hidden_layer\n",
    "    \n",
    "    wout += np.dot(hidden_layer_activation.T,delta_output) * lr\n",
    "    wh += np.dot(X.T,delta_hidden_layer) * lr\n",
    "    bh += np.sum(delta_hidden_layer)*lr\n",
    "    bout += np.sum(delta_output)*lr\n",
    "    \n",
    "print output_layer_activation \n",
    "    "
   ]
  },
  {
   "cell_type": "code",
   "execution_count": null,
   "metadata": {},
   "outputs": [],
   "source": []
  }
 ],
 "metadata": {
  "kernelspec": {
   "display_name": "Python 2",
   "language": "python",
   "name": "python2"
  },
  "language_info": {
   "codemirror_mode": {
    "name": "ipython",
    "version": 2
   },
   "file_extension": ".py",
   "mimetype": "text/x-python",
   "name": "python",
   "nbconvert_exporter": "python",
   "pygments_lexer": "ipython2",
   "version": "2.7.13"
  }
 },
 "nbformat": 4,
 "nbformat_minor": 2
}
