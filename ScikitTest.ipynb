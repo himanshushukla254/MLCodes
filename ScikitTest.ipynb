{
 "cells": [
  {
   "cell_type": "code",
   "execution_count": null,
   "metadata": {},
   "outputs": [],
   "source": [
    "#Basic Scikit learn codes\n",
    "'''from sklearn import datasets\n",
    "digits = datasets.load_digits()\n",
    "print(digits)'''"
   ]
  },
  {
   "cell_type": "code",
   "execution_count": null,
   "metadata": {},
   "outputs": [],
   "source": [
    "'''import pandas as pd\n",
    "digits = pd.read_csv(\"optdigits.tra\", header=None)\n",
    "print(digits)'''"
   ]
  },
  {
   "cell_type": "code",
   "execution_count": null,
   "metadata": {},
   "outputs": [],
   "source": [
    "import numpy as np\n",
    "import pandas as pd\n",
    "from matplotlib import pyplot as plt\n",
    "from sklearn.linear_model import LinearRegression\n",
    "df = pd.read_csv('data.csv' ,delim_whitespace=True)\n",
    "x_train = df['Father'].values[:,np.newaxis]\n",
    "y_train = df['Son'].values\n",
    "lm = LinearRegression()\n",
    "lm.fit(x_train, y_train) #train the model\n",
    "\n",
    "x_test = [[72.8],[61.1],[67.4],[70.2],[75.6],[60.2],[65.3],[59.2]]\n",
    "\n",
    "predictions = lm.predict(x_test)\n",
    "\n",
    "print predictions\n",
    "\n",
    "plt.scatter(x_train, y_train,color='b')\n",
    "\n",
    "plt.plot(x_test, predictions,color='black',linewidth=3)\n",
    "plt.xlabel('Father height in inches')  \n",
    "plt.ylabel('Son height in inches') \n",
    "plt.show()"
   ]
  },
  {
   "cell_type": "code",
   "execution_count": null,
   "metadata": {},
   "outputs": [],
   "source": [
    "#naive bayes\n",
    "'''\n",
    "Dataset of patients who had undergone \n",
    "surgery for breast cancer. \n",
    "\n",
    "Age - Age of patient at time of operation.\n",
    "Year - Patient's year of operation (year - 1900).\n",
    "Nodes - Number of positive axillary nodes detected.\n",
    "\n",
    "Class(Survived): \n",
    "1 - the patient survived 5 years or longer\n",
    "2 - the patient died within 5 year\n",
    "'''\n",
    "\n",
    "import numpy as np\n",
    "import pandas as pd\n",
    "from matplotlib import pyplot as plt\n",
    "# Import the sklearn library for Naive bayes\n",
    "from sklearn.naive_bayes import GaussianNB\n",
    "\n",
    "df = pd.read_csv('data_naive_bayes.csv')\n",
    "\n",
    "plt.xlabel('Feature')\n",
    "plt.ylabel('Survived') \n",
    "\n",
    "X = df.loc[:,'Age']\n",
    "Y = df.loc[:,'Survived']\n",
    "plt.scatter(X, Y,color='blue',label='Age')\n",
    "\n",
    "X = df.loc[:,'Year']\n",
    "Y = df.loc[:,'Survived']\n",
    "plt.scatter(X, Y,color='green',label='Year')\n",
    "\n",
    "X = df.loc[:,'Nodes']\n",
    "Y = df.loc[:,'Survived']\n",
    "plt.scatter(X, Y,color='red',label='Nodes')\n",
    "\n",
    "plt.legend(loc=4, prop={'size': 7})\n",
    "plt.show()\n",
    "\n",
    "# Prepare the training set\n",
    "X = df.loc[:,'Age':'Nodes']\n",
    "Y = df.loc[:,'Survived']\n",
    "\n",
    "clf = GaussianNB()\n",
    "\n",
    "# Train the model\n",
    "clf.fit(X,Y)\n",
    "\n",
    "# Test the model(return the class)\n",
    "prediction = clf.predict([[12,70,12],[13,20,13]])\n",
    "\n",
    "print prediction\n"
   ]
  },
  {
   "cell_type": "code",
   "execution_count": null,
   "metadata": {},
   "outputs": [],
   "source": [
    "#Decision Tree\n",
    "'''\n",
    "buying         4 - vhigh, 3 - high, 2 - med, 1 - low\n",
    "maint          4 - vhigh, 3 - high, 2 - med, 1 - low\n",
    "doors          2, 3, 4, 5\n",
    "persons        2, 4, 5\n",
    "lug_boot       1 - small, 2 - med, 3 - big\n",
    "safety         l - low, 2 - med, 3 - high\n",
    " \n",
    "class          unacc acc good vgood  \n",
    "'''\n",
    "import numpy as np\n",
    "import pandas as pd\n",
    "from sklearn.tree import DecisionTreeClassifier\n",
    "df = pd.read_csv('data_decision_tree.csv')\n",
    "\n",
    "X_train = df.loc[:,'buying':'safety']\n",
    "Y_train = df.loc[:,'values']\n",
    "tree = DecisionTreeClassifier(max_leaf_nodes=3, random_state=0)\n",
    "tree.fit(X_train, Y_train)\n",
    "prediction = tree.predict([[4,3,2,1,2,3]])\n",
    "\n",
    "print prediction  "
   ]
  },
  {
   "cell_type": "code",
   "execution_count": 17,
   "metadata": {},
   "outputs": [
    {
     "name": "stdout",
     "output_type": "stream",
     "text": [
      "[0 0 1 0 1 0]\n"
     ]
    },
    {
     "data": {
      "image/png": "[encoded data removed]",
      "text/plain": [
       "<matplotlib.figure.Figure at 0x135a20f0>"
      ]
     },
     "metadata": {},
     "output_type": "display_data"
    }
   ],
   "source": [
    "#k means clustering\n",
    "'''\n",
    "eruptions - eruptions time in minutes\n",
    "waiting - waiting time to next eruption \n",
    "            in minutes'''\n",
    "\n",
    "import numpy as np\n",
    "import pandas as pd\n",
    "from matplotlib import pyplot as plt\n",
    "\n",
    "from sklearn.cluster import KMeans\n",
    "\n",
    "df = pd.read_csv('data_kmeans.csv')\n",
    "k = 2 # Assign the number of clusters\n",
    "\n",
    "kmeans = KMeans(n_clusters=k)\n",
    "kmeans = kmeans.fit(df)\n",
    "\n",
    "labels = kmeans.labels_ # array that contains cluster number \n",
    "\n",
    "centroids = kmeans.cluster_centers_ ## array of size k with co-ordinates of centroids \n",
    "\n",
    "# Prepare the test data \n",
    "x_test = [[4.671,67],[2.885,61],[1.666,90],[5.623,54],[2.678,80],[1.875,60]]\n",
    "\n",
    "prediction = kmeans.predict(x_test)\n",
    "\n",
    "print prediction\n",
    "\n",
    "# Plot the points representing their cluster\n",
    "# cluster number \n",
    "colors = ['blue','red','green','black']\n",
    "y = 0\n",
    "for x in labels:\n",
    "    # plot the points acc to their clusters\n",
    "    # and assign different colors\n",
    "    plt.scatter(df.iloc[y,0], df.iloc[y,1],color=colors[x])\n",
    "    y+=1\n",
    "        \n",
    "for x in range(k):\n",
    "    #plot the centroids\n",
    "    lines = plt.plot(centroids[x,0],centroids[x,1],'kx')    \n",
    "    #make the centroid larger    \n",
    "    plt.setp(lines,ms=15.0)\n",
    "    plt.setp(lines,mew=2.0)\n",
    "    \n",
    "title = ('No of clusters (k) = {}').format(k)\n",
    "plt.title(title)\n",
    "plt.xlabel('eruptions (mins)')\n",
    "plt.ylabel('waiting (mins)')\n",
    "plt.show()"
   ]
  },
  {
   "cell_type": "code",
   "execution_count": null,
   "metadata": {},
   "outputs": [],
   "source": []
  }
 ],
 "metadata": {
  "kernelspec": {
   "display_name": "Python 2",
   "language": "python",
   "name": "python2"
  },
  "language_info": {
   "codemirror_mode": {
    "name": "ipython",
    "version": 2
   },
   "file_extension": ".py",
   "mimetype": "text/x-python",
   "name": "python",
   "nbconvert_exporter": "python",
   "pygments_lexer": "ipython2",
   "version": "2.7.13"
  }
 },
 "nbformat": 4,
 "nbformat_minor": 2
}
