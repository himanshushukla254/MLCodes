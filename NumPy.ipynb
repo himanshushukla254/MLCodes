{
 "cells": [
  {
   "cell_type": "code",
   "execution_count": 8,
   "metadata": {},
   "outputs": [
    {
     "name": "stdout",
     "output_type": "stream",
     "text": [
      "[[ 0  1  2  3  4]\n",
      " [ 5  6  7  8  9]\n",
      " [10 11 12 13 14]]\n"
     ]
    }
   ],
   "source": [
    "from numpy import *\n",
    "a = arange(15).reshape(3,5)\n",
    "print a"
   ]
  },
  {
   "cell_type": "code",
   "execution_count": 9,
   "metadata": {},
   "outputs": [
    {
     "name": "stdout",
     "output_type": "stream",
     "text": [
      "(3, 5)\n",
      "2\n",
      "15\n",
      "int32\n",
      "4\n",
      "<type 'numpy.ndarray'>\n",
      "<type 'numpy.ndarray'>\n"
     ]
    }
   ],
   "source": [
    "print a.shape\n",
    "print a.ndim \n",
    "print a.size\n",
    "print a.dtype\n",
    "print a.itemsize #all int\n",
    "print type(a)\n",
    "b = array([6,7,8])\n",
    "print type(b)"
   ]
  },
  {
   "cell_type": "code",
   "execution_count": 10,
   "metadata": {},
   "outputs": [
    {
     "name": "stdout",
     "output_type": "stream",
     "text": [
      "<type 'numpy.ndarray'>\n",
      "<type 'numpy.ndarray'>\n"
     ]
    }
   ],
   "source": [
    "#array creation \n",
    "c = array([3,4,5]) # c = array(1,2,4,5) wrong way\n",
    "print type(c) \n",
    "d = array([1.2,4.6,7.8])\n",
    "print type(d)"
   ]
  },
  {
   "cell_type": "code",
   "execution_count": 11,
   "metadata": {},
   "outputs": [
    {
     "name": "stdout",
     "output_type": "stream",
     "text": [
      "[[ 1.5  2.   3. ]\n",
      " [ 4.   5.   6. ]]\n",
      "[[ 1.5  2.   3. ]\n",
      " [ 4.   5.   6. ]\n",
      " [ 1.   4.   8. ]]\n"
     ]
    }
   ],
   "source": [
    "#array transforms sequences of sequences into two-dimensional arrays,\n",
    "#sequences of sequences of sequences into three-dimensional arrays, and so on.\n",
    "e = array( [ (1.5,2,3), (4,5,6) ] )\n",
    "print e\n",
    "f = array( [ (1.5,2,3), (4,5,6) , (1,4,8) ])\n",
    "print f"
   ]
  },
  {
   "cell_type": "code",
   "execution_count": 12,
   "metadata": {},
   "outputs": [
    {
     "name": "stdout",
     "output_type": "stream",
     "text": [
      "[[ 0.  0.  0.  0.]\n",
      " [ 0.  0.  0.  0.]\n",
      " [ 0.  0.  0.  0.]]\n",
      "[[[ 1.  1.  1.  1.]\n",
      "  [ 1.  1.  1.  1.]\n",
      "  [ 1.  1.  1.  1.]]\n",
      "\n",
      " [[ 1.  1.  1.  1.]\n",
      "  [ 1.  1.  1.  1.]\n",
      "  [ 1.  1.  1.  1.]]]\n",
      "[[ 1.5  2.   3. ]\n",
      " [ 4.   5.   6. ]]\n"
     ]
    }
   ],
   "source": [
    "#The function zeros creates an array full of zeros, \n",
    "#the function ones creates an array full of ones,\n",
    "#and the function empty creates an array whose initial content is random.\n",
    "print zeros( (3,4) )\n",
    "print ones( (2,3,4) )\n",
    "print empty( (2,3) )"
   ]
  },
  {
   "cell_type": "code",
   "execution_count": 13,
   "metadata": {},
   "outputs": [
    {
     "name": "stdout",
     "output_type": "stream",
     "text": [
      "[10 15 20 25]\n",
      "[ 0.   0.3  0.6  0.9  1.2  1.5  1.8]\n"
     ]
    }
   ],
   "source": [
    "#To create sequences of numbers, NumPy provides a function analogous to range that returns arrays instead of lists\n",
    "print arange( 10, 30, 5 ) # 10 to 30 with lap =5\n",
    "print arange( 0, 2, 0.3 ) #similar"
   ]
  },
  {
   "cell_type": "code",
   "execution_count": 14,
   "metadata": {},
   "outputs": [
    {
     "name": "stdout",
     "output_type": "stream",
     "text": [
      "[0 1 2 3 4 5]\n",
      "[[ 0  1  2]\n",
      " [ 3  4  5]\n",
      " [ 6  7  8]\n",
      " [ 9 10 11]]\n",
      "3d starts here \n",
      "  [[[ 0  1  2  3]\n",
      "  [ 4  5  6  7]\n",
      "  [ 8  9 10 11]]\n",
      "\n",
      " [[12 13 14 15]\n",
      "  [16 17 18 19]\n",
      "  [20 21 22 23]]]\n",
      "[[   0    1    2 ...,   97   98   99]\n",
      " [ 100  101  102 ...,  197  198  199]\n",
      " [ 200  201  202 ...,  297  298  299]\n",
      " ..., \n",
      " [9700 9701 9702 ..., 9797 9798 9799]\n",
      " [9800 9801 9802 ..., 9897 9898 9899]\n",
      " [9900 9901 9902 ..., 9997 9998 9999]]\n"
     ]
    }
   ],
   "source": [
    "#printing array \n",
    "a = arange(6)    # 1d \n",
    "print a\n",
    "b = arange(12).reshape(4,3) #2d\n",
    "print b\n",
    "c = arange(24).reshape(2,3,4) #3d\n",
    "print \"3d starts here \\n \" ,c\n",
    "print arange(10000).reshape(100,100) # ndimensional "
   ]
  },
  {
   "cell_type": "code",
   "execution_count": 15,
   "metadata": {},
   "outputs": [
    {
     "name": "stdout",
     "output_type": "stream",
     "text": [
      "[20 29 38 47]\n",
      "[0 1 4 9]\n",
      "[ 9.12945251 -9.88031624  7.4511316  -2.62374854]\n"
     ]
    },
    {
     "data": {
      "text/plain": [
       "array([ True,  True, False, False], dtype=bool)"
      ]
     },
     "execution_count": 15,
     "metadata": {},
     "output_type": "execute_result"
    }
   ],
   "source": [
    "a = array( [20,30,40,50] )\n",
    "b = arange( 4 )\n",
    "c = a-b\n",
    "print c\n",
    "b = b**2\n",
    "print b\n",
    "a = 10*sin(a)\n",
    "print a\n",
    "a<35\n",
    "array([True, True, False, False], dtype=bool)"
   ]
  },
  {
   "cell_type": "code",
   "execution_count": 16,
   "metadata": {},
   "outputs": [
    {
     "name": "stdout",
     "output_type": "stream",
     "text": [
      "[[2 0]\n",
      " [0 4]]\n",
      "[[5 4]\n",
      " [3 4]]\n"
     ]
    }
   ],
   "source": [
    "A = array( [[1,1],[0,1]] )\n",
    "B = array( [[2,0],[3,4]] )\n",
    "print A*B #matrix product\n",
    "print dot(A,B) #dot product"
   ]
  },
  {
   "cell_type": "code",
   "execution_count": 24,
   "metadata": {},
   "outputs": [
    {
     "ename": "TypeError",
     "evalue": "can't multiply sequence by non-int of type 'list'",
     "output_type": "error",
     "traceback": [
      "\u001b[1;31m---------------------------------------------------------------------------\u001b[0m",
      "\u001b[1;31mTypeError\u001b[0m                                 Traceback (most recent call last)",
      "\u001b[1;32m<ipython-input-24-9209d1d56704>\u001b[0m in \u001b[0;36m<module>\u001b[1;34m()\u001b[0m\n\u001b[0;32m      1\u001b[0m \u001b[0mC\u001b[0m \u001b[1;33m=\u001b[0m \u001b[1;33m[\u001b[0m\u001b[1;36m1\u001b[0m\u001b[1;33m,\u001b[0m\u001b[1;36m1\u001b[0m\u001b[1;33m]\u001b[0m\u001b[1;33m\u001b[0m\u001b[0m\n\u001b[0;32m      2\u001b[0m \u001b[0mD\u001b[0m \u001b[1;33m=\u001b[0m \u001b[1;33m[\u001b[0m\u001b[1;36m1\u001b[0m\u001b[1;33m,\u001b[0m\u001b[1;36m0\u001b[0m\u001b[1;33m]\u001b[0m\u001b[1;33m\u001b[0m\u001b[0m\n\u001b[1;32m----> 3\u001b[1;33m \u001b[1;32mprint\u001b[0m \u001b[0mC\u001b[0m\u001b[1;33m*\u001b[0m\u001b[0mD\u001b[0m\u001b[1;33m\u001b[0m\u001b[0m\n\u001b[0m\u001b[0;32m      4\u001b[0m \u001b[1;32mprint\u001b[0m \u001b[0mdot\u001b[0m\u001b[1;33m(\u001b[0m\u001b[0mC\u001b[0m\u001b[1;33m,\u001b[0m\u001b[0mD\u001b[0m\u001b[1;33m)\u001b[0m\u001b[1;33m\u001b[0m\u001b[0m\n",
      "\u001b[1;31mTypeError\u001b[0m: can't multiply sequence by non-int of type 'list'"
     ]
    }
   ],
   "source": [
    "C = [1,1]\n",
    "D = [1,0]\n",
    "print C*D\n",
    "print dot(C,D)"
   ]
  },
  {
   "cell_type": "code",
   "execution_count": 17,
   "metadata": {},
   "outputs": [
    {
     "name": "stdout",
     "output_type": "stream",
     "text": [
      "[[ 0.63707266  0.52702663  0.79786506]\n",
      " [ 0.84716552  0.56123914  0.60484364]]\n",
      "3.97521264334\n",
      "0.527026631438\n",
      "0.847165515015\n"
     ]
    }
   ],
   "source": [
    "#random function\n",
    "a = random.random((2,3))\n",
    "print a\n",
    "print a.sum()\n",
    "print a.min()\n",
    "print a.max()"
   ]
  },
  {
   "cell_type": "code",
   "execution_count": 18,
   "metadata": {},
   "outputs": [
    {
     "name": "stdout",
     "output_type": "stream",
     "text": [
      "[12 15 18 21]\n",
      "[0 4 8]\n",
      "[[ 0  1  3  6]\n",
      " [ 4  9 15 22]\n",
      " [ 8 17 27 38]]\n"
     ]
    }
   ],
   "source": [
    "# by specifying the axis parameter you can apply an operation along the specified axis of an array:\n",
    "b = arange(12).reshape(3,4)\n",
    "print b.sum(axis=0) # sum of each column\n",
    "print b.min(axis=1) # min of each row\n",
    "print b.cumsum(axis=1) # cumulative sum along each row"
   ]
  },
  {
   "cell_type": "code",
   "execution_count": 19,
   "metadata": {},
   "outputs": [
    {
     "name": "stdout",
     "output_type": "stream",
     "text": [
      "8\n",
      "[ 8 27 64]\n",
      "[729 512 343 216 125  64  27   8   1   0]\n"
     ]
    }
   ],
   "source": [
    "#Indexing, Slicing\n",
    "a = arange(10)**3\n",
    "print a[2] \n",
    "print a[2:5]\n",
    "print a[ : :-1] #revert"
   ]
  },
  {
   "cell_type": "code",
   "execution_count": 20,
   "metadata": {},
   "outputs": [
    {
     "name": "stdout",
     "output_type": "stream",
     "text": [
      "(3, 4)\n",
      "[ 6.  3.  5.  1.  5.  3.  6.  8.  4.  4.  4.  5.]\n",
      "[[ 6.  3.]\n",
      " [ 5.  1.]\n",
      " [ 5.  3.]\n",
      " [ 6.  8.]\n",
      " [ 4.  4.]\n",
      " [ 4.  5.]]\n",
      "[[ 6.  3.  5.  1.  5.  3.]\n",
      " [ 6.  8.  4.  4.  4.  5.]]\n",
      "[[ 6.  3.  5.  1.]\n",
      " [ 5.  3.  6.  8.]\n",
      " [ 4.  4.  4.  5.]]\n"
     ]
    }
   ],
   "source": [
    "#Shape Manipulation\n",
    "a = floor(10*random.random((3,4)))\n",
    "print a.shape\n",
    "print a.ravel() # flatten the array\n",
    "a.shape = (6, 2)\n",
    "print a\n",
    "a.resize((2,6))\n",
    "print a\n",
    "#If a dimension is given as -1 in a reshaping operation, the other dimensions are automatically calculated:\n",
    "print a.reshape(3,-1)"
   ]
  },
  {
   "cell_type": "code",
   "execution_count": 21,
   "metadata": {},
   "outputs": [
    {
     "name": "stdout",
     "output_type": "stream",
     "text": [
      "[[ 4.  7.]\n",
      " [ 7.  3.]\n",
      " [ 1.  3.]\n",
      " [ 5.  3.]]\n",
      "[[ 4.  7.  1.  3.]\n",
      " [ 7.  3.  5.  3.]]\n",
      "h and vstack ends here\n",
      "[[ 4.]\n",
      " [ 2.]]\n"
     ]
    },
    {
     "data": {
      "text/plain": [
       "array([[ 4.,  2.],\n",
       "       [ 2.,  8.]])"
      ]
     },
     "execution_count": 21,
     "metadata": {},
     "output_type": "execute_result"
    }
   ],
   "source": [
    "#Stacking together different arrays\n",
    "a = floor(10*random.random((2,2)))\n",
    "b = floor(10*random.random((2,2)))\n",
    "print vstack((a,b))\n",
    "print hstack((a,b))\n",
    "print \"h and vstack ends here\"\n",
    "a=array([4.,2.])\n",
    "b=array([2.,8.])\n",
    "print a[:,newaxis] \n",
    "column_stack((a[:,newaxis],b[:,newaxis]))\n"
   ]
  },
  {
   "cell_type": "code",
   "execution_count": 22,
   "metadata": {},
   "outputs": [
    {
     "data": {
      "text/plain": [
       "[array([[ 9.,  4.,  3.,  5.],\n",
       "        [ 9.,  5.,  8.,  4.]]), array([[ 6.,  4.,  1.,  9.],\n",
       "        [ 6.,  5.,  0.,  1.]]), array([[ 9.,  3.,  7.,  8.],\n",
       "        [ 9.,  8.,  6.,  9.]])]"
      ]
     },
     "execution_count": 22,
     "metadata": {},
     "output_type": "execute_result"
    }
   ],
   "source": [
    "#Splitting one array into several smaller ones\n",
    "a = floor(10*random.random((2,12)))\n",
    "hsplit(a,3)"
   ]
  },
  {
   "cell_type": "code",
   "execution_count": 23,
   "metadata": {},
   "outputs": [
    {
     "name": "stdout",
     "output_type": "stream",
     "text": [
      "[[ 1.  3.]\n",
      " [ 2.  4.]]\n",
      "[[-2.   1. ]\n",
      " [ 1.5 -0.5]]\n",
      "[[ 1.  0.]\n",
      " [ 0.  1.]]\n",
      "[[ 1.  2.]\n",
      " [ 3.  4.]]\n",
      "(array([-0.37228132,  5.37228132]), array([[-0.82456484, -0.41597356],\n",
      "       [ 0.56576746, -0.90937671]]))\n"
     ]
    }
   ],
   "source": [
    "#linear algebra\n",
    "from numpy.linalg import *\n",
    "a = array([[1.0, 2.0], [3.0, 4.0]])\n",
    "print a.transpose()\n",
    "print inv(a)\n",
    "u = eye(2)\n",
    "print u\n",
    "print dot (a, u)\n",
    "print eig(a)"
   ]
  },
  {
   "cell_type": "code",
   "execution_count": null,
   "metadata": {},
   "outputs": [],
   "source": []
  }
 ],
 "metadata": {
  "kernelspec": {
   "display_name": "Python 2",
   "language": "python",
   "name": "python2"
  },
  "language_info": {
   "codemirror_mode": {
    "name": "ipython",
    "version": 2
   },
   "file_extension": ".py",
   "mimetype": "text/x-python",
   "name": "python",
   "nbconvert_exporter": "python",
   "pygments_lexer": "ipython2",
   "version": "2.7.13"
  }
 },
 "nbformat": 4,
 "nbformat_minor": 2
}
